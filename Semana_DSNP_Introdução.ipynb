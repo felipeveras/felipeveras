{
  "nbformat": 4,
  "nbformat_minor": 0,
  "metadata": {
    "colab": {
      "name": "Semana DSNP - Introdução.ipynb",
      "provenance": [],
      "include_colab_link": true
    },
    "kernelspec": {
      "name": "python3",
      "display_name": "Python 3"
    },
    "language_info": {
      "name": "python"
    }
  },
  "cells": [
    {
      "cell_type": "markdown",
      "metadata": {
        "id": "view-in-github",
        "colab_type": "text"
      },
      "source": [
        "<a href=\"https://colab.research.google.com/github/felipeveras/felipeveras/blob/main/Semana_DSNP_Introdu%C3%A7%C3%A3o.ipynb\" target=\"_parent\"><img src=\"https://colab.research.google.com/assets/colab-badge.svg\" alt=\"Open In Colab\"/></a>"
      ]
    },
    {
      "cell_type": "code",
      "metadata": {
        "id": "TjsImI5rniJX"
      },
      "source": [
        "import pandas as pd"
      ],
      "execution_count": null,
      "outputs": []
    },
    {
      "cell_type": "code",
      "metadata": {
        "id": "NrHgD2MCp2GO"
      },
      "source": [
        "df = pd.read_excel(\"/content/acidentes_sp.xlsx\")"
      ],
      "execution_count": null,
      "outputs": []
    },
    {
      "cell_type": "code",
      "metadata": {
        "colab": {
          "base_uri": "https://localhost:8080/",
          "height": 381
        },
        "id": "0_tENMQCqa1d",
        "outputId": "62c566db-901b-4b48-f9d3-8d82a6cf7768"
      },
      "source": [
        "df.head()"
      ],
      "execution_count": null,
      "outputs": [
        {
          "output_type": "execute_result",
          "data": {
            "text/html": [
              "<div>\n",
              "<style scoped>\n",
              "    .dataframe tbody tr th:only-of-type {\n",
              "        vertical-align: middle;\n",
              "    }\n",
              "\n",
              "    .dataframe tbody tr th {\n",
              "        vertical-align: top;\n",
              "    }\n",
              "\n",
              "    .dataframe thead th {\n",
              "        text-align: right;\n",
              "    }\n",
              "</style>\n",
              "<table border=\"1\" class=\"dataframe\">\n",
              "  <thead>\n",
              "    <tr style=\"text-align: right;\">\n",
              "      <th></th>\n",
              "      <th>Id da Delegacia (RDO)</th>\n",
              "      <th>Número do Bo (RDO)</th>\n",
              "      <th>Ano do BO (RDO)</th>\n",
              "      <th>Data do Óbito</th>\n",
              "      <th>Data do Acidente</th>\n",
              "      <th>Tipo de via</th>\n",
              "      <th>Dia do óbito</th>\n",
              "      <th>Mês do Óbito</th>\n",
              "      <th>Mês Óbito Descrição</th>\n",
              "      <th>Ano do Óbito</th>\n",
              "      <th>Ano/Mês do Óbito</th>\n",
              "      <th>Dia da Semana</th>\n",
              "      <th>Hora do Acidente</th>\n",
              "      <th>Turno</th>\n",
              "      <th>Município</th>\n",
              "      <th>Região Administrativa</th>\n",
              "      <th>Logradouro</th>\n",
              "      <th>Númeral / KM</th>\n",
              "      <th>Jurisdição</th>\n",
              "      <th>Administração</th>\n",
              "      <th>Conservação</th>\n",
              "      <th>Tipo do local da ocorrência</th>\n",
              "      <th>LAT_(GEO)</th>\n",
              "      <th>LONG_(GEO)</th>\n",
              "      <th>Tipo do veículo da vítima</th>\n",
              "      <th>Tipo de vítima</th>\n",
              "      <th>Local do óbito</th>\n",
              "      <th>Tipo de acidente</th>\n",
              "      <th>Sub Tipo do Acidente</th>\n",
              "      <th>Tempo entre o Acidente e o óbito</th>\n",
              "      <th>Sexo</th>\n",
              "      <th>Faixa etária</th>\n",
              "      <th>Idade da vítima</th>\n",
              "      <th>Outro Veículo Envolvido</th>\n",
              "    </tr>\n",
              "  </thead>\n",
              "  <tbody>\n",
              "    <tr>\n",
              "      <th>0</th>\n",
              "      <td>120514</td>\n",
              "      <td>889</td>\n",
              "      <td>2020</td>\n",
              "      <td>2020-04-30</td>\n",
              "      <td>2020-04-30</td>\n",
              "      <td>Rodovias</td>\n",
              "      <td>30</td>\n",
              "      <td>4</td>\n",
              "      <td>ABRIL</td>\n",
              "      <td>2020</td>\n",
              "      <td>2020.04</td>\n",
              "      <td>QUINTA</td>\n",
              "      <td>17:30:00</td>\n",
              "      <td>TARDE</td>\n",
              "      <td>ARACARIGUAMA</td>\n",
              "      <td>Sorocaba</td>\n",
              "      <td>SP 280</td>\n",
              "      <td>50,0</td>\n",
              "      <td>ESTADUAL</td>\n",
              "      <td>CONCESSIONÁRIA</td>\n",
              "      <td>VIAOESTE</td>\n",
              "      <td>PUBLICO</td>\n",
              "      <td>-23.439186</td>\n",
              "      <td>-47.065945</td>\n",
              "      <td>ONIBUS</td>\n",
              "      <td>CONDUTOR</td>\n",
              "      <td>VIA</td>\n",
              "      <td>CHOQUE</td>\n",
              "      <td>VEÍCULO ESTACIONADO</td>\n",
              "      <td>Mesmo dia</td>\n",
              "      <td>MASCULINO</td>\n",
              "      <td>45-49</td>\n",
              "      <td>48.0</td>\n",
              "      <td>ONIBUS</td>\n",
              "    </tr>\n",
              "    <tr>\n",
              "      <th>1</th>\n",
              "      <td>120514</td>\n",
              "      <td>889</td>\n",
              "      <td>2020</td>\n",
              "      <td>2020-04-30</td>\n",
              "      <td>2020-04-30</td>\n",
              "      <td>Rodovias</td>\n",
              "      <td>30</td>\n",
              "      <td>4</td>\n",
              "      <td>ABRIL</td>\n",
              "      <td>2020</td>\n",
              "      <td>2020.04</td>\n",
              "      <td>QUINTA</td>\n",
              "      <td>17:30:00</td>\n",
              "      <td>TARDE</td>\n",
              "      <td>ARACARIGUAMA</td>\n",
              "      <td>Sorocaba</td>\n",
              "      <td>SP 280</td>\n",
              "      <td>50,0</td>\n",
              "      <td>ESTADUAL</td>\n",
              "      <td>CONCESSIONÁRIA</td>\n",
              "      <td>VIAOESTE</td>\n",
              "      <td>PUBLICO</td>\n",
              "      <td>-23.439186</td>\n",
              "      <td>-47.065945</td>\n",
              "      <td>ONIBUS</td>\n",
              "      <td>PASSAGEIRO</td>\n",
              "      <td>ESTABELECIMENTO DE SAUDE</td>\n",
              "      <td>CHOQUE</td>\n",
              "      <td>VEÍCULO ESTACIONADO</td>\n",
              "      <td>Mesmo dia</td>\n",
              "      <td>MASCULINO</td>\n",
              "      <td>35-39</td>\n",
              "      <td>36.0</td>\n",
              "      <td>ONIBUS</td>\n",
              "    </tr>\n",
              "    <tr>\n",
              "      <th>2</th>\n",
              "      <td>110429</td>\n",
              "      <td>3887</td>\n",
              "      <td>2020</td>\n",
              "      <td>2020-04-30</td>\n",
              "      <td>2020-04-17</td>\n",
              "      <td>Rodovias</td>\n",
              "      <td>30</td>\n",
              "      <td>4</td>\n",
              "      <td>ABRIL</td>\n",
              "      <td>2020</td>\n",
              "      <td>2020.04</td>\n",
              "      <td>SEXTA</td>\n",
              "      <td>03:50:00</td>\n",
              "      <td>MADRUGADA</td>\n",
              "      <td>SAO JOSE DO RIO PRETO</td>\n",
              "      <td>São José do Rio Preto</td>\n",
              "      <td>BR 153</td>\n",
              "      <td>57,5</td>\n",
              "      <td>FEDERAL</td>\n",
              "      <td>CONCESSIONÁRIA</td>\n",
              "      <td>TRANSBRASILIANA</td>\n",
              "      <td>PUBLICO</td>\n",
              "      <td>-20.772532</td>\n",
              "      <td>-49.350863</td>\n",
              "      <td>MOTOCICLETA</td>\n",
              "      <td>CONDUTOR</td>\n",
              "      <td>ESTABELECIMENTO DE SAUDE</td>\n",
              "      <td>CHOQUE</td>\n",
              "      <td>DEFENSA / BARREIRA</td>\n",
              "      <td>Até 30 dias</td>\n",
              "      <td>MASCULINO</td>\n",
              "      <td>25-29</td>\n",
              "      <td>26.0</td>\n",
              "      <td>NÃO HÁ</td>\n",
              "    </tr>\n",
              "    <tr>\n",
              "      <th>3</th>\n",
              "      <td>30309</td>\n",
              "      <td>1745</td>\n",
              "      <td>2020</td>\n",
              "      <td>2020-04-30</td>\n",
              "      <td>2020-04-30</td>\n",
              "      <td>Rodovias</td>\n",
              "      <td>30</td>\n",
              "      <td>4</td>\n",
              "      <td>ABRIL</td>\n",
              "      <td>2020</td>\n",
              "      <td>2020.04</td>\n",
              "      <td>QUINTA</td>\n",
              "      <td>18:30:00</td>\n",
              "      <td>NOITE</td>\n",
              "      <td>SUZANO</td>\n",
              "      <td>Metropolitana de São Paulo</td>\n",
              "      <td>SP 021</td>\n",
              "      <td>110,0</td>\n",
              "      <td>ESTADUAL</td>\n",
              "      <td>CONCESSIONÁRIA</td>\n",
              "      <td>SPMAR</td>\n",
              "      <td>PUBLICO</td>\n",
              "      <td>-23.566580</td>\n",
              "      <td>-46.342199</td>\n",
              "      <td>PEDESTRE</td>\n",
              "      <td>PEDESTRE</td>\n",
              "      <td>VIA</td>\n",
              "      <td>ATROPELAMENTO</td>\n",
              "      <td>CRUZANDO A VIA</td>\n",
              "      <td>Mesmo dia</td>\n",
              "      <td>MASCULINO</td>\n",
              "      <td>NAO DISPONIVEL</td>\n",
              "      <td>NaN</td>\n",
              "      <td>AUTOMOVEL</td>\n",
              "    </tr>\n",
              "    <tr>\n",
              "      <th>4</th>\n",
              "      <td>70923</td>\n",
              "      <td>1373</td>\n",
              "      <td>2020</td>\n",
              "      <td>2020-04-30</td>\n",
              "      <td>2020-04-30</td>\n",
              "      <td>Vias Municipais</td>\n",
              "      <td>30</td>\n",
              "      <td>4</td>\n",
              "      <td>ABRIL</td>\n",
              "      <td>2020</td>\n",
              "      <td>2020.04</td>\n",
              "      <td>QUINTA</td>\n",
              "      <td>17:50:00</td>\n",
              "      <td>TARDE</td>\n",
              "      <td>LIMEIRA</td>\n",
              "      <td>Campinas</td>\n",
              "      <td>RUA ITAPEMA</td>\n",
              "      <td>481,0</td>\n",
              "      <td>MUNICIPAL</td>\n",
              "      <td>PREFEITURA</td>\n",
              "      <td>PREFEITURA</td>\n",
              "      <td>PUBLICO</td>\n",
              "      <td>-22.552483</td>\n",
              "      <td>-47.405759</td>\n",
              "      <td>BICICLETA</td>\n",
              "      <td>CONDUTOR</td>\n",
              "      <td>VIA</td>\n",
              "      <td>CHOQUE</td>\n",
              "      <td>MURO/PAREDE/TALUDE</td>\n",
              "      <td>Mesmo dia</td>\n",
              "      <td>FEMININO</td>\n",
              "      <td>30-34</td>\n",
              "      <td>30.0</td>\n",
              "      <td>NÃO HÁ</td>\n",
              "    </tr>\n",
              "  </tbody>\n",
              "</table>\n",
              "</div>"
            ],
            "text/plain": [
              "   Id da Delegacia (RDO)  ...  Outro Veículo Envolvido\n",
              "0                 120514  ...                   ONIBUS\n",
              "1                 120514  ...                   ONIBUS\n",
              "2                 110429  ...                   NÃO HÁ\n",
              "3                  30309  ...                AUTOMOVEL\n",
              "4                  70923  ...                   NÃO HÁ\n",
              "\n",
              "[5 rows x 34 columns]"
            ]
          },
          "metadata": {
            "tags": []
          },
          "execution_count": 8
        }
      ]
    },
    {
      "cell_type": "code",
      "metadata": {
        "colab": {
          "base_uri": "https://localhost:8080/"
        },
        "id": "kUGRt848qdeE",
        "outputId": "94110289-0c65-4650-a119-0fa75d602154"
      },
      "source": [
        "df.shape"
      ],
      "execution_count": null,
      "outputs": [
        {
          "output_type": "execute_result",
          "data": {
            "text/plain": [
              "(30571, 34)"
            ]
          },
          "metadata": {
            "tags": []
          },
          "execution_count": 9
        }
      ]
    },
    {
      "cell_type": "code",
      "metadata": {
        "colab": {
          "base_uri": "https://localhost:8080/"
        },
        "id": "Es26eVMXql0I",
        "outputId": "10458895-0a74-4e86-8b55-9add1565e582"
      },
      "source": [
        "df.columns"
      ],
      "execution_count": null,
      "outputs": [
        {
          "output_type": "execute_result",
          "data": {
            "text/plain": [
              "Index(['Id da Delegacia (RDO)', 'Número do Bo (RDO)', 'Ano do BO (RDO)',\n",
              "       'Data do Óbito', 'Data do Acidente', 'Tipo de via', 'Dia do óbito',\n",
              "       'Mês do Óbito', 'Mês Óbito Descrição', 'Ano do Óbito',\n",
              "       'Ano/Mês do Óbito', 'Dia da Semana', 'Hora do Acidente', 'Turno',\n",
              "       'Município', 'Região Administrativa', 'Logradouro', 'Númeral / KM',\n",
              "       'Jurisdição', 'Administração', 'Conservação',\n",
              "       'Tipo do local da ocorrência', 'LAT_(GEO)', 'LONG_(GEO)',\n",
              "       'Tipo do veículo da vítima', 'Tipo de vítima', 'Local do óbito',\n",
              "       'Tipo de acidente', 'Sub Tipo do Acidente',\n",
              "       'Tempo entre o Acidente e o óbito', 'Sexo', 'Faixa etária',\n",
              "       'Idade da vítima', 'Outro Veículo Envolvido'],\n",
              "      dtype='object')"
            ]
          },
          "metadata": {
            "tags": []
          },
          "execution_count": 10
        }
      ]
    },
    {
      "cell_type": "code",
      "metadata": {
        "colab": {
          "base_uri": "https://localhost:8080/"
        },
        "id": "RsYrIeddqr9D",
        "outputId": "520d2cf6-b218-48a6-abf6-75f18b05770e"
      },
      "source": [
        "df[\"Conservação\"].unique()"
      ],
      "execution_count": null,
      "outputs": [
        {
          "output_type": "execute_result",
          "data": {
            "text/plain": [
              "array(['VIAOESTE', 'TRANSBRASILIANA', 'SPMAR', 'PREFEITURA', 'AUTOBAN',\n",
              "       'AUTOPISTA REGIS BITTENCOURT', 'DR10 - São Paulo', 'ENTREVIAS',\n",
              "       'DR05 - Cubatão', 'DR02 - Itapetininga', 'VIAPAULISTA',\n",
              "       'NAO DISPONIVEL', 'TRIÂNGULO DO SOL', 'AUTOPISTA FERNÃO DIAS',\n",
              "       'ECOPISTAS', 'COLINAS', 'ECOVIAS', 'ROTA DAS BANDEIRAS',\n",
              "       'INTERVIAS', 'TAMOIOS', 'DR11 - Araçatuba', 'RODOVIAS DO TIETÊ',\n",
              "       'TEBE', 'DR09 - São José do Rio Preto', 'DR06 - Taubaté', 'CART',\n",
              "       'CENTROVIAS', 'DR01 - Campinas', 'SPVIAS',\n",
              "       'DR12 - Presidente Prudente', 'NOVADUTRA', 'DR07 - Assis',\n",
              "       'DR13 - Rio Claro', 'DR04 - Araraquara', 'DR08 - Ribeirão Preto',\n",
              "       'DR14 - Barretos', 'DR03 - Bauru', 'RENOVIAS', 'VIARONDON',\n",
              "       'CCR RODOANEL', 'DNIT'], dtype=object)"
            ]
          },
          "metadata": {
            "tags": []
          },
          "execution_count": 12
        }
      ]
    },
    {
      "cell_type": "code",
      "metadata": {
        "colab": {
          "base_uri": "https://localhost:8080/",
          "height": 282
        },
        "id": "iffq-y-srEmL",
        "outputId": "932887f5-3ed1-4fca-9083-0005c3a0ef40"
      },
      "source": [
        "df[\"Mês do Óbito\"].hist()"
      ],
      "execution_count": null,
      "outputs": [
        {
          "output_type": "execute_result",
          "data": {
            "text/plain": [
              "<matplotlib.axes._subplots.AxesSubplot at 0x7fae75b35c10>"
            ]
          },
          "metadata": {
            "tags": []
          },
          "execution_count": 14
        },
        {
          "output_type": "display_data",
          "data": {
            "image/png": "[encoded data removed]",
            "text/plain": [
              "<Figure size 432x288 with 1 Axes>"
            ]
          },
          "metadata": {
            "tags": [],
            "needs_background": "light"
          }
        }
      ]
    },
    {
      "cell_type": "code",
      "metadata": {
        "id": "vGFhYrVVsW2L"
      },
      "source": [
        ""
      ],
      "execution_count": null,
      "outputs": []
    }
  ]
}